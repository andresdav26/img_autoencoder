{
 "cells": [
  {
   "cell_type": "code",
   "execution_count": null,
   "metadata": {},
   "outputs": [],
   "source": [
    "import torch \n",
    "import torch.nn as nn "
   ]
  },
  {
   "cell_type": "code",
   "execution_count": null,
   "metadata": {},
   "outputs": [],
   "source": [
    "x = torch.randn(4, 1, 420, 540)\n",
    "\n",
    "size = 40 # patch size\n",
    "stride = 10 # patch stride\n",
    "patches = x.unfold(2, size, stride).unfold(3, size, stride)\n",
    "print(patches.shape)"
   ]
  },
  {
   "cell_type": "code",
   "execution_count": null,
   "metadata": {},
   "outputs": [],
   "source": [
    "a = patches[0,0,10,10,:,:]\n",
    "print(a.shape)"
   ]
  },
  {
   "cell_type": "code",
   "execution_count": null,
   "metadata": {},
   "outputs": [],
   "source": [
    "import matplotlib.pyplot as plt \n",
    "plt.imshow(a)\n",
    "plt.show()"
   ]
  },
  {
   "cell_type": "code",
   "execution_count": null,
   "metadata": {},
   "outputs": [],
   "source": [
    "fold = nn.Fold(output_size = (4, 1, 420, 540), kernel_size = (40,40))\n",
    "xx = fold(patches)\n"
   ]
  },
  {
   "cell_type": "code",
   "execution_count": 16,
   "metadata": {},
   "outputs": [],
   "source": [
    "from PIL import Image\n",
    "picture = Image.open('/home/adguerrero/ia_nas/datasets/size_image/img_comfenalco/img_4.png').convert('L')\n",
    "picture.save('/home/adguerrero/ia_nas/datasets/size_image/img_comfenalco/grayscale/img_4.png')"
   ]
  },
  {
   "cell_type": "code",
   "execution_count": null,
   "metadata": {},
   "outputs": [],
   "source": [
    "from PIL import Image\n",
    "picture = Image.open('/home/adguerrero/gia_san/datasets/size_image/original/4401-10.png') \n",
    "\n",
    "print(picture.size)\n",
    "file = '4401-10.jpg'\n",
    "picture.save(\"/home/adguerrero/gia_san/datasets/size_image/jpg_compression/Compressed_\"+ file,  \n",
    "                \"JPEG\", \n",
    "                optimize = True,  \n",
    "                quality = 70) "
   ]
  },
  {
   "cell_type": "code",
   "execution_count": null,
   "metadata": {},
   "outputs": [],
   "source": [
    "import os\n",
    "os.path.getsize('/home/adguerrero/Documents/mejoramiento_imagenes/Compressed_29386302_3603_00001.jpg')"
   ]
  },
  {
   "cell_type": "code",
   "execution_count": null,
   "metadata": {},
   "outputs": [],
   "source": [
    "import os\n",
    "os.path.getsize('/home/adguerrero/gia_san/datasets/snr_escrituras/29386302/29386302_3603_00001.png')"
   ]
  },
  {
   "cell_type": "code",
   "execution_count": null,
   "metadata": {},
   "outputs": [],
   "source": [
    "from PIL import Image\n",
    "path = '/home/adguerrero/gia_san/datasets/size_image/'\n",
    "\n",
    "h,w = picture.size \n",
    "# thresh = 200\n",
    "picture = Image.open(path + 'original/4401-10.png').convert('L')\n",
    "reduccion = picture.resize((int(h*0.5),int(w*0.5)), Image.ANTIALIAS)\n",
    "\n",
    "# fn = lambda x : 255 if x > thresh else 0\n",
    "# r = reduccion.convert('L').point(fn, mode='1')\n",
    "reduccion.save(path + 'antialiasing/4401-10.png',optimize=True) "
   ]
  },
  {
   "cell_type": "code",
   "execution_count": 67,
   "metadata": {},
   "outputs": [],
   "source": [
    "from PIL import Image\n",
    "path = '/home/adguerrero/gia_san/datasets/size_image/'\n",
    "\n",
    "h,w = picture.size \n",
    "picture = Image.open(path + 'original/4401-10.png')\n",
    "reduccion = picture.resize((int(h*0.5),int(w*0.5)), Image.ANTIALIAS)\n",
    "\n",
    "file = '4401-10.jpg'\n",
    "reduccion.save(path + \"antialias_jpgcompre/Compressed_\"+ file,  \n",
    "                \"JPEG\", \n",
    "                optimize = True,  \n",
    "                quality = 70) \n"
   ]
  },
  {
   "cell_type": "code",
   "execution_count": 1,
   "metadata": {},
   "outputs": [],
   "source": [
    "import cv2 as cv\n",
    "import numpy as np\n",
    "\n",
    "def image_process(image: np.ndarray) -> np.ndarray:\n",
    "\n",
    "    raw_img = image.copy()\n",
    "    rows, cols = image.shape\n",
    "    blur_ksize = (4, 4) if cols > 2000 else (2, 2)\n",
    "\n",
    "    # step 1: reduce background noise\n",
    "    morph_size = 1\n",
    "    image = cv.blur(image, ksize=blur_ksize)\n",
    "    image = cv.threshold(image, thresh=140, maxval=255, type=cv.THRESH_BINARY)[1]\n",
    "\n",
    "    kernel = cv.getStructuringElement(\n",
    "        shape=cv.MORPH_RECT,\n",
    "        ksize=(2*morph_size + 1, 2*morph_size + 1),\n",
    "        anchor=(morph_size, morph_size)\n",
    "        )\n",
    "    ## to black background and white foreground\n",
    "    image = cv.bitwise_not(image)\n",
    "    image = cv.morphologyEx(image, op=cv.MORPH_OPEN, kernel=kernel, iterations=1)\n",
    "\n",
    "    # step 2: remove vertical and horizontal lines\n",
    "    dil_mask_ksize = (6, 2) if cols > 2000 else (3, 2)\n",
    "    kernel = cv.getStructuringElement(shape=cv.MORPH_RECT, ksize=dil_mask_ksize)\n",
    "    dilate_mask = cv.morphologyEx(image.copy(), op=cv.MORPH_DILATE, kernel=kernel)\n",
    "\n",
    "    vert_kernel = cv.getStructuringElement(shape=cv.MORPH_RECT, ksize=(1, int(rows * 0.03)))\n",
    "    hori_kernel = cv.getStructuringElement(shape=cv.MORPH_RECT, ksize=(int(cols * 0.03), 1))\n",
    "\n",
    "    vert_mask = cv.morphologyEx(dilate_mask.copy(), op=cv.MORPH_OPEN, kernel=vert_kernel, iterations=2)\n",
    "    vert_mask = cv.dilate(\n",
    "        vert_mask,\n",
    "        kernel=cv.getStructuringElement(cv.MORPH_RECT, (3, 1)),\n",
    "        iterations=2\n",
    "        )\n",
    "\n",
    "    hori_mask = cv.morphologyEx(dilate_mask.copy(), op=cv.MORPH_OPEN, kernel=hori_kernel, iterations=2)\n",
    "    hori_mask = cv.dilate(\n",
    "        hori_mask,\n",
    "        kernel=cv.getStructuringElement(cv.MORPH_RECT, (1, 3)),\n",
    "        iterations=2\n",
    "        )\n",
    "\n",
    "    lines_mask = cv.bitwise_or(vert_mask, hori_mask)\n",
    "    ## to white background and black foreground\n",
    "    final_mask = cv.bitwise_not(image)\n",
    "    ## apply mask to remove lines\n",
    "    final_mask[lines_mask == 255] = 255\n",
    "\n",
    "    # step 3: recover original characters\n",
    "    # to black background again\n",
    "    final_mask = cv.bitwise_not(final_mask)\n",
    "    final_mask = cv.dilate(\n",
    "        final_mask,\n",
    "        kernel=cv.getStructuringElement(cv.MORPH_RECT, (2, 2)), anchor=(0, 0),\n",
    "        iterations=2\n",
    "        )\n",
    "\n",
    "    result_img = cv.bitwise_and(raw_img, final_mask)\n",
    "    result_img[final_mask == 0] = 255\n",
    "\n",
    "    return result_img"
   ]
  },
  {
   "cell_type": "code",
   "execution_count": 7,
   "metadata": {},
   "outputs": [
    {
     "data": {
      "text/plain": [
       "True"
      ]
     },
     "execution_count": 7,
     "metadata": {},
     "output_type": "execute_result"
    }
   ],
   "source": [
    "img = cv.imread('/home/adguerrero/ia_nas/datasets/autoencoder/dataset/result_ocr/prueba/original_noisy.png',cv.IMREAD_GRAYSCALE)\n",
    "result_img = image_process(img)\n",
    "cv.imwrite('./preprocess.png',result_img)"
   ]
  },
  {
   "cell_type": "code",
   "execution_count": 21,
   "metadata": {},
   "outputs": [],
   "source": [
    "from PIL import Image\n",
    "from itertools import product\n",
    "\n",
    "def tile(filename, dir_in, dir_out, type, d):\n",
    "    name, ext = os.path.splitext(filename)\n",
    "    img_N = Image.open(os.path.join(dir_in, type, filename))\n",
    "    img_C = Image.open(os.path.join(dir_in, type, filename))\n",
    "    w, h = img_N.size\n",
    "    \n",
    "    i3 = 0 \n",
    "    i4 = 0 \n",
    "    i5 = 0\n",
    "    grid = product(range(0, h-h%d, d), range(0, w-w%d, d))\n",
    "    for i, j in grid:\n",
    "        box = (j, i, j+d, i+d)\n",
    "        out_N = os.path.join(dir_out, type, f'{name}_{i3}{i4}{i5}{ext}')\n",
    "        img_N.crop(box).save(out_N)\n",
    "\n",
    "        i5 = i5 + 1\n",
    "        if i5 > 9:\n",
    "            i5 = 0\n",
    "            i4 = i4 +1 \n",
    "            if i4 > 9:\n",
    "                i4 = 0\n",
    "                i3 = i3 + 1"
   ]
  },
  {
   "cell_type": "code",
   "execution_count": 22,
   "metadata": {},
   "outputs": [],
   "source": [
    "tile('4401-1.png','./', './crop/', 'noisy', 128)"
   ]
  },
  {
   "cell_type": "code",
   "execution_count": null,
   "metadata": {},
   "outputs": [],
   "source": []
  }
 ],
 "metadata": {
  "interpreter": {
   "hash": "a523642e2638f64cdba1156b0ec34809f18463972732e3df063a101259505e2c"
  },
  "kernelspec": {
   "display_name": "Python 3.8.10 ('S_RGB')",
   "language": "python",
   "name": "python3"
  },
  "language_info": {
   "codemirror_mode": {
    "name": "ipython",
    "version": 3
   },
   "file_extension": ".py",
   "mimetype": "text/x-python",
   "name": "python",
   "nbconvert_exporter": "python",
   "pygments_lexer": "ipython3",
   "version": "3.8.10"
  },
  "orig_nbformat": 4
 },
 "nbformat": 4,
 "nbformat_minor": 2
}
